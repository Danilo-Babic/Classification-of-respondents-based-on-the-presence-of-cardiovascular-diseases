{
 "cells": [
  {
   "cell_type": "code",
   "execution_count": null,
   "id": "2ce6c076",
   "metadata": {},
   "outputs": [],
   "source": [
    "import numpy as np\n",
    "import pandas as pd\n",
    "import seaborn as sb\n",
    "import matplotlib.pyplot as plt\n",
    "from sklearn.model_selection import train_test_split\n",
    "from sklearn.preprocessing import StandardScaler, PolynomialFeatures\n",
    "from sklearn.linear_model import LinearRegression, Ridge, Lasso\n",
    "from sklearn import datasets\n",
    "import seaborn as sns\n",
    "from scipy import stats\n",
    "from sklearn.model_selection import GridSearchCV\n",
    "from sklearn.linear_model import  LogisticRegression\n",
    "from sklearn.neighbors import KNeighborsClassifier\n",
    "from sklearn.ensemble import RandomForestClassifier\n",
    "from sklearn.svm import SVC\n",
    "from sklearn.decomposition import PCA\n",
    "from sklearn.metrics import ConfusionMatrixDisplay\n",
    "from sklearn.metrics import confusion_matrix\n",
    "from sklearn import metrics"
   ]
  },
  {
   "cell_type": "code",
   "execution_count": null,
   "id": "fde29ac2",
   "metadata": {},
   "outputs": [],
   "source": [
    "df = pd.read_csv('cardio_train.csv',delimiter=';')"
   ]
  },
  {
   "cell_type": "code",
   "execution_count": null,
   "id": "cc1d5bdd",
   "metadata": {},
   "outputs": [],
   "source": [
    "print(df.shape)\n",
    "df.head()\n",
    "print(\"Info o obelezjima\")\n",
    "print(df.describe())\n",
    "#df.info()"
   ]
  },
  {
   "cell_type": "code",
   "execution_count": null,
   "id": "16be8947",
   "metadata": {},
   "outputs": [],
   "source": [
    "# mozda da izbacis kao outlier skroz\n",
    "negativne_vrednosti_sistolni = df.loc[df['ap_hi']<0,'ap_hi'].unique()\n",
    "for i in negativne_vrednosti_sistolni:\n",
    "  df['ap_hi'].replace(negativne_vrednosti_sistolni,abs(negativne_vrednosti_sistolni), inplace=True)\n",
    "\n",
    "# izbaci??\n",
    "negativne_vrednosti_dijastolni = df.loc[df['ap_lo']<0,'ap_lo'].unique()\n",
    "for i in negativne_vrednosti_dijastolni:\n",
    "  df['ap_lo'].replace(negativne_vrednosti_dijastolni,abs(negativne_vrednosti_dijastolni), inplace=True)"
   ]
  },
  {
   "cell_type": "code",
   "execution_count": null,
   "id": "7b2874f2",
   "metadata": {},
   "outputs": [],
   "source": [
    "inx = df.loc[df['height']<120].index\n",
    "df.drop(inx, inplace= True, axis = 0)\n",
    "\n",
    "inx1 = df.loc[df['ap_hi']>370].index\n",
    "df.drop(inx1, inplace= True, axis = 0)\n",
    "\n",
    "inx2 = df.loc[df['ap_lo']>360].index\n",
    "df.drop(inx2, inplace= True, axis = 0)\n",
    "\n",
    "inx3 = df.loc[df['ap_hi']<50].index\n",
    "df.drop(inx3, inplace= True, axis = 0)\n",
    "\n",
    "inx4 = df.loc[df['ap_lo']<20].index\n",
    "df.drop(inx4, inplace= True, axis = 0)\n",
    "\n",
    "inx5 = df.loc[df['weight']<50].index\n",
    "df.drop(inx5, inplace= True, axis = 0)\n",
    "\n",
    "y = df['cardio']\n",
    "df.drop(['id', 'cardio'], inplace= True, axis = 1)"
   ]
  }
 ],
 "metadata": {
  "kernelspec": {
   "display_name": "sc-2023-env",
   "language": "python",
   "name": "sc-2023-env"
  }
 },
 "nbformat": 4,
 "nbformat_minor": 5
}
